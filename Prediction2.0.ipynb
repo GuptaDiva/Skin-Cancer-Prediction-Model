{
 "cells": [
  {
   "cell_type": "markdown",
   "id": "11acea92",
   "metadata": {},
   "source": [
    "# Importing Librarires"
   ]
  },
  {
   "cell_type": "code",
   "execution_count": 4,
   "id": "879555b9",
   "metadata": {},
   "outputs": [],
   "source": [
    "import pandas as pd\n",
    "import os\n",
    "import shutil"
   ]
  },
  {
   "cell_type": "markdown",
   "id": "3e30a482",
   "metadata": {},
   "source": [
    "## Arragnging all the images in 7 sub folders under a Universal folder Reorganized."
   ]
  },
  {
   "cell_type": "code",
   "execution_count": 6,
   "id": "4eb1fe77",
   "metadata": {},
   "outputs": [
    {
     "name": "stdout",
     "output_type": "stream",
     "text": [
      "nv       6705\n",
      "mel      1113\n",
      "bkl      1099\n",
      "bcc       514\n",
      "akiec     327\n",
      "vasc      142\n",
      "df        115\n",
      "Name: dx, dtype: int64\n"
     ]
    }
   ],
   "source": [
    "data_dir=os.getcwd()+\"/Dataset/all_images\"\n",
    "dest_dir=os.getcwd()+\"/Dataset/Reorganized/\"\n",
    "# Read the csv file containing image names and corresponding labels\n",
    "skin_df=pd.read_csv('Dataset/HAM10000_metadata.csv')\n",
    "print(skin_df['dx'].value_counts())\n",
    "label=skin_df['dx'].unique().tolist()\n",
    "label_images=[]\n",
    "for i in label:\n",
    "    os.mkdir(dest_dir + str(i) + \"/\")\n",
    "    sample = skin_df[skin_df['dx'] == i]['image_id']\n",
    "    label_images.extend(sample)\n",
    "    for id in label_images:\n",
    "        shutil.copyfile((data_dir + \"/\"+ id +\".jpg\"), (dest_dir + i + \"/\"+id+\".jpg\"))\n",
    "    label_images=[]    "
   ]
  },
  {
   "cell_type": "markdown",
   "id": "92caa63a",
   "metadata": {},
   "source": [
    "## Processing the Images in each sub folder."
   ]
  },
  {
   "cell_type": "code",
   "execution_count": 8,
   "id": "10316c26",
   "metadata": {},
   "outputs": [
    {
     "name": "stdout",
     "output_type": "stream",
     "text": [
      "Found 10015 images belonging to 7 classes.\n"
     ]
    }
   ],
   "source": [
    "import tensorflow as tf\n",
    "from keras.preprocessing.image import ImageDataGenerator\n",
    "import os\n",
    "from matplotlib import pyplot as plt\n",
    "datagen = ImageDataGenerator()\n",
    "train_dir = os.getcwd() + \"/Dataset/Reorganized/\"\n",
    "train_data_keras = datagen.flow_from_directory(directory=train_dir,\n",
    "                                         class_mode='categorical',\n",
    "                                         batch_size=16, \n",
    "                                         target_size=(32,32))"
   ]
  },
  {
   "cell_type": "markdown",
   "id": "07bc5ea4",
   "metadata": {},
   "source": [
    "# Plotting the Images."
   ]
  },
  {
   "cell_type": "code",
   "execution_count": null,
   "id": "a18f085c",
   "metadata": {},
   "outputs": [],
   "source": [
    "x, y = next(train_data_keras)\n",
    "for i in range (0,15):\n",
    "    image = x[i].astype(int)\n",
    "    plt.imshow(image)\n",
    "    plt.show()"
   ]
  },
  {
   "cell_type": "code",
   "execution_count": null,
   "id": "68582590",
   "metadata": {},
   "outputs": [],
   "source": []
  },
  {
   "cell_type": "code",
   "execution_count": null,
   "id": "d752886f",
   "metadata": {},
   "outputs": [],
   "source": []
  },
  {
   "cell_type": "code",
   "execution_count": null,
   "id": "56375974",
   "metadata": {},
   "outputs": [],
   "source": []
  },
  {
   "cell_type": "code",
   "execution_count": null,
   "id": "169ef687",
   "metadata": {},
   "outputs": [],
   "source": []
  },
  {
   "cell_type": "code",
   "execution_count": null,
   "id": "e38d84ee",
   "metadata": {},
   "outputs": [],
   "source": []
  },
  {
   "cell_type": "code",
   "execution_count": null,
   "id": "c9cb4a5f",
   "metadata": {},
   "outputs": [],
   "source": []
  },
  {
   "cell_type": "code",
   "execution_count": null,
   "id": "3116f500",
   "metadata": {},
   "outputs": [],
   "source": []
  },
  {
   "cell_type": "code",
   "execution_count": null,
   "id": "cf23cd9a",
   "metadata": {},
   "outputs": [],
   "source": []
  },
  {
   "cell_type": "code",
   "execution_count": null,
   "id": "99c452ae",
   "metadata": {},
   "outputs": [],
   "source": []
  }
 ],
 "metadata": {
  "kernelspec": {
   "display_name": "Python 3 (ipykernel)",
   "language": "python",
   "name": "python3"
  },
  "language_info": {
   "codemirror_mode": {
    "name": "ipython",
    "version": 3
   },
   "file_extension": ".py",
   "mimetype": "text/x-python",
   "name": "python",
   "nbconvert_exporter": "python",
   "pygments_lexer": "ipython3",
   "version": "3.11.2"
  }
 },
 "nbformat": 4,
 "nbformat_minor": 5
}
